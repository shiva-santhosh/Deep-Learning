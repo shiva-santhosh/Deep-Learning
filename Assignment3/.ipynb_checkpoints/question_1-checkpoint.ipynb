{
 "cells": [
  {
   "cell_type": "code",
   "execution_count": 16,
   "metadata": {},
   "outputs": [],
   "source": [
    "import numpy as np\n",
    "import matplotlib.pyplot as plt\n",
    "import tensorflow as tf\n",
    "from tensorflow.keras import datasets, layers, models"
   ]
  },
  {
   "cell_type": "code",
   "execution_count": 23,
   "metadata": {},
   "outputs": [],
   "source": [
    "(train_images,train_labels), (test_images,test_labels) = datasets.cifar10.load_data()"
   ]
  },
  {
   "cell_type": "code",
   "execution_count": 24,
   "metadata": {},
   "outputs": [],
   "source": [
    "#normalising data\n",
    "train_images,test_images= train_images/255 , test_images/255"
   ]
  },
  {
   "cell_type": "markdown",
   "metadata": {},
   "source": [
    "## Model1"
   ]
  },
  {
   "cell_type": "code",
   "execution_count": 25,
   "metadata": {
    "scrolled": true
   },
   "outputs": [
    {
     "name": "stdout",
     "output_type": "stream",
     "text": [
      "Model: \"sequential_4\"\n",
      "_________________________________________________________________\n",
      "Layer (type)                 Output Shape              Param #   \n",
      "=================================================================\n",
      "conv2d_4 (Conv2D)            (None, 28, 28, 32)        2432      \n",
      "_________________________________________________________________\n",
      "max_pooling2d_4 (MaxPooling2 (None, 14, 14, 32)        0         \n",
      "_________________________________________________________________\n",
      "conv2d_5 (Conv2D)            (None, 10, 10, 64)        51264     \n",
      "_________________________________________________________________\n",
      "max_pooling2d_5 (MaxPooling2 (None, 5, 5, 64)          0         \n",
      "_________________________________________________________________\n",
      "flatten_2 (Flatten)          (None, 1600)              0         \n",
      "_________________________________________________________________\n",
      "dense_4 (Dense)              (None, 64)                102464    \n",
      "_________________________________________________________________\n",
      "dense_5 (Dense)              (None, 10)                650       \n",
      "=================================================================\n",
      "Total params: 156,810\n",
      "Trainable params: 156,810\n",
      "Non-trainable params: 0\n",
      "_________________________________________________________________\n"
     ]
    }
   ],
   "source": [
    "#model1\n",
    "\n",
    "model1 = models.Sequential()\n",
    "model1.add(layers.Conv2D(32,(5,5),activation = 'relu' , input_shape = (32,32,3)))\n",
    "model1.add(layers.MaxPooling2D((2, 2)))\n",
    "model1.add(layers.Conv2D(64, (5, 5), activation='relu'))\n",
    "model1.add(layers.MaxPooling2D((2, 2)))\n",
    "model1.add(layers.Flatten())\n",
    "model1.add(layers.Dense(64 , activation = 'relu'))\n",
    "model1.add(layers.Dense(10 , activation = 'softmax'))\n",
    "model1.summary()\n"
   ]
  },
  {
   "cell_type": "markdown",
   "metadata": {},
   "source": [
    "## model1 results"
   ]
  },
  {
   "cell_type": "code",
   "execution_count": 26,
   "metadata": {},
   "outputs": [
    {
     "name": "stdout",
     "output_type": "stream",
     "text": [
      "Train on 40000 samples, validate on 10000 samples\n",
      "Epoch 1/10\n",
      "40000/40000 [==============================] - 32s 808us/sample - loss: 1.5648 - acc: 0.4318 - val_loss: 1.3503 - val_acc: 0.5206\n",
      "Epoch 2/10\n",
      "40000/40000 [==============================] - 33s 820us/sample - loss: 1.2254 - acc: 0.5652 - val_loss: 1.1379 - val_acc: 0.6031\n",
      "Epoch 3/10\n",
      "40000/40000 [==============================] - 32s 800us/sample - loss: 1.0816 - acc: 0.6182 - val_loss: 1.0608 - val_acc: 0.6304\n",
      "Epoch 4/10\n",
      "40000/40000 [==============================] - 32s 798us/sample - loss: 0.9804 - acc: 0.6547 - val_loss: 1.0422 - val_acc: 0.6393\n",
      "Epoch 5/10\n",
      "40000/40000 [==============================] - 33s 814us/sample - loss: 0.9051 - acc: 0.6848 - val_loss: 0.9923 - val_acc: 0.6599\n",
      "Epoch 6/10\n",
      "40000/40000 [==============================] - 32s 801us/sample - loss: 0.8444 - acc: 0.7038 - val_loss: 1.0221 - val_acc: 0.6580\n",
      "Epoch 7/10\n",
      "40000/40000 [==============================] - 34s 840us/sample - loss: 0.7887 - acc: 0.7229 - val_loss: 0.9608 - val_acc: 0.6762\n",
      "Epoch 8/10\n",
      "40000/40000 [==============================] - 32s 810us/sample - loss: 0.7422 - acc: 0.7403 - val_loss: 0.9409 - val_acc: 0.6871\n",
      "Epoch 9/10\n",
      "40000/40000 [==============================] - 32s 806us/sample - loss: 0.6958 - acc: 0.7571 - val_loss: 0.9540 - val_acc: 0.6823\n",
      "Epoch 10/10\n",
      "40000/40000 [==============================] - 31s 768us/sample - loss: 0.6603 - acc: 0.7669 - val_loss: 0.9756 - val_acc: 0.6850\n"
     ]
    }
   ],
   "source": [
    "model1.compile( optimizer = 'adam' , \n",
    "             loss = 'sparse_categorical_crossentropy' ,\n",
    "             metrics = ['accuracy'] ) \n",
    "history = model1.fit(train_images , train_labels , epochs = 10 , validation_split = 0.2 , shuffle = True )"
   ]
  },
  {
   "cell_type": "code",
   "execution_count": 27,
   "metadata": {},
   "outputs": [
    {
     "name": "stdout",
     "output_type": "stream",
     "text": [
      "10000/10000 - 2s - loss: 0.9818 - acc: 0.6789\n"
     ]
    },
    {
     "data": {
      "image/png": "[encoded data removed]",
      "text/plain": [
       "<Figure size 432x288 with 1 Axes>"
      ]
     },
     "metadata": {
      "needs_background": "light"
     },
     "output_type": "display_data"
    }
   ],
   "source": [
    "plt.plot(history.history['acc'], label='accuracy')\n",
    "plt.plot(history.history['val_acc'], label = 'val_accuracy')\n",
    "plt.xlabel('Epoch')\n",
    "plt.ylabel('Accuracy')\n",
    "plt.ylim([0.5, 1])\n",
    "plt.legend(loc='lower right')\n",
    "\n",
    "test_loss, test_acc = model1.evaluate(test_images,  test_labels, verbose=2)\n"
   ]
  },
  {
   "cell_type": "markdown",
   "metadata": {},
   "source": [
    "## Model2 "
   ]
  },
  {
   "cell_type": "code",
   "execution_count": 28,
   "metadata": {},
   "outputs": [
    {
     "name": "stdout",
     "output_type": "stream",
     "text": [
      "Model: \"sequential_5\"\n",
      "_________________________________________________________________\n",
      "Layer (type)                 Output Shape              Param #   \n",
      "=================================================================\n",
      "conv2d_6 (Conv2D)            (None, 28, 28, 32)        2432      \n",
      "_________________________________________________________________\n",
      "max_pooling2d_6 (MaxPooling2 (None, 9, 9, 32)          0         \n",
      "_________________________________________________________________\n",
      "conv2d_7 (Conv2D)            (None, 5, 5, 64)          51264     \n",
      "_________________________________________________________________\n",
      "max_pooling2d_7 (MaxPooling2 (None, 1, 1, 64)          0         \n",
      "_________________________________________________________________\n",
      "flatten_3 (Flatten)          (None, 64)                0         \n",
      "_________________________________________________________________\n",
      "dense_6 (Dense)              (None, 64)                4160      \n",
      "_________________________________________________________________\n",
      "dense_7 (Dense)              (None, 10)                650       \n",
      "=================================================================\n",
      "Total params: 58,506\n",
      "Trainable params: 58,506\n",
      "Non-trainable params: 0\n",
      "_________________________________________________________________\n"
     ]
    }
   ],
   "source": [
    "model2 = models.Sequential()\n",
    "model2.add(layers.Conv2D(32,(5,5),activation = 'relu' , input_shape = (32,32,3)))\n",
    "model2.add(layers.MaxPooling2D((3, 3)))\n",
    "model2.add(layers.Conv2D(64, (5, 5), activation='relu'))\n",
    "model2.add(layers.MaxPooling2D((3, 3)))\n",
    "model2.add(layers.Flatten())\n",
    "model2.add(layers.Dense(64 , activation = 'relu'))\n",
    "model2.add(layers.Dense(10 , activation = 'softmax'))\n",
    "model2.summary()"
   ]
  },
  {
   "cell_type": "code",
   "execution_count": null,
   "metadata": {},
   "outputs": [
    {
     "name": "stdout",
     "output_type": "stream",
     "text": [
      "Train on 40000 samples, validate on 10000 samples\n",
      "Epoch 1/10\n",
      "40000/40000 [==============================] - 22s 550us/sample - loss: 1.7017 - acc: 0.3751 - val_loss: 1.4759 - val_acc: 0.4722\n",
      "Epoch 2/10\n",
      "40000/40000 [==============================] - 21s 529us/sample - loss: 1.4273 - acc: 0.4902 - val_loss: 1.3784 - val_acc: 0.5103\n",
      "Epoch 3/10\n",
      "40000/40000 [==============================] - 21s 528us/sample - loss: 1.3078 - acc: 0.5363 - val_loss: 1.3371 - val_acc: 0.5277\n",
      "Epoch 4/10\n",
      "40000/40000 [==============================] - 21s 521us/sample - loss: 1.2195 - acc: 0.5700 - val_loss: 1.2284 - val_acc: 0.5728\n",
      "Epoch 5/10\n",
      "40000/40000 [==============================] - 21s 525us/sample - loss: 1.1589 - acc: 0.5937 - val_loss: 1.2108 - val_acc: 0.5790\n",
      "Epoch 6/10\n",
      "24864/40000 [=================>............] - ETA: 7s - loss: 1.1159 - acc: 0.6090"
     ]
    }
   ],
   "source": [
    "model2.compile( optimizer = 'adam' , \n",
    "             loss = 'sparse_categorical_crossentropy' ,\n",
    "             metrics = ['accuracy'] ) \n",
    "history = model2.fit(train_images , train_labels , epochs = 10 , validation_split = 0.2 , shuffle = True )"
   ]
  },
  {
   "cell_type": "markdown",
   "metadata": {},
   "source": [
    "## Model2 results"
   ]
  },
  {
   "cell_type": "code",
   "execution_count": null,
   "metadata": {},
   "outputs": [],
   "source": [
    "plt.plot(history.history['acc'], label='accuracy')\n",
    "plt.plot(history.history['val_acc'], label = 'val_accuracy')\n",
    "plt.xlabel('Epoch')\n",
    "plt.ylabel('Accuracy')\n",
    "plt.ylim([0.5, 1])\n",
    "plt.legend(loc='lower right')\n",
    "\n",
    "test_loss, test_acc = model2.evaluate(test_images,  test_labels, verbose=2)"
   ]
  },
  {
   "cell_type": "markdown",
   "metadata": {},
   "source": [
    "## Model 3"
   ]
  },
  {
   "cell_type": "code",
   "execution_count": null,
   "metadata": {},
   "outputs": [],
   "source": [
    "model3 = models.Sequential()\n",
    "model3.add(layers.Conv2D(32,(5,5),activation = 'relu' , input_shape = (32,32,3)))\n",
    "model3.add(layers.MaxPooling2D((3, 3)))\n",
    "model3.add(layers.Conv2D(64, (5, 5), activation='relu'))\n",
    "model3.add(layers.MaxPooling2D((3, 3)))\n",
    "model3.add(layers.Flatten())\n",
    "model3.add(layers.Dense(64 , activation = 'relu'))\n",
    "model3.add(layers.Dense(10 , activation = 'softmax'))\n",
    "model3.summary()"
   ]
  },
  {
   "cell_type": "code",
   "execution_count": null,
   "metadata": {},
   "outputs": [],
   "source": [
    "model3.compile( optimizer = 'adam' , \n",
    "             loss = 'sparse_categorical_crossentropy' ,\n",
    "             metrics = ['accuracy'] ) \n",
    "history = model3.fit(train_images , train_labels , epochs = 10 , validation_split = 0.2 , shuffle = True )"
   ]
  },
  {
   "cell_type": "markdown",
   "metadata": {},
   "source": [
    "## Model2 results"
   ]
  },
  {
   "cell_type": "code",
   "execution_count": null,
   "metadata": {},
   "outputs": [],
   "source": [
    "plt.plot(history.history['acc'], label='accuracy')\n",
    "plt.plot(history.history['val_acc'], label = 'val_accuracy')\n",
    "plt.xlabel('Epoch')\n",
    "plt.ylabel('Accuracy')\n",
    "plt.ylim([0.5, 1])\n",
    "plt.legend(loc='lower right')\n",
    "\n",
    "test_loss, test_acc = model3.evaluate(test_images,  test_labels, verbose=2)"
   ]
  },
  {
   "cell_type": "markdown",
   "metadata": {},
   "source": [
    "## Model4 "
   ]
  },
  {
   "cell_type": "code",
   "execution_count": null,
   "metadata": {},
   "outputs": [],
   "source": [
    "model4 = models.Sequential()\n",
    "model4.add(layers.Conv2D(32,(5,5),activation = 'relu' , input_shape = (32,32,3)))\n",
    "model4.add(layers.MaxPooling2D((3, 3)))\n",
    "model4.add(layers.Conv2D(64, (5, 5), activation='relu'))\n",
    "model4.add(layers.MaxPooling2D((3, 3)))\n",
    "model4.add(layers.Flatten())\n",
    "model4.add(layers.Dense(64 , activation = 'relu'))\n",
    "model4.add(layers.Dense(10 , activation = 'softmax'))\n",
    "model4.summary()"
   ]
  },
  {
   "cell_type": "code",
   "execution_count": null,
   "metadata": {},
   "outputs": [],
   "source": []
  },
  {
   "cell_type": "code",
   "execution_count": null,
   "metadata": {},
   "outputs": [],
   "source": []
  },
  {
   "cell_type": "code",
   "execution_count": null,
   "metadata": {},
   "outputs": [],
   "source": []
  },
  {
   "cell_type": "code",
   "execution_count": null,
   "metadata": {},
   "outputs": [],
   "source": []
  },
  {
   "cell_type": "code",
   "execution_count": null,
   "metadata": {},
   "outputs": [],
   "source": []
  },
  {
   "cell_type": "code",
   "execution_count": null,
   "metadata": {},
   "outputs": [],
   "source": []
  },
  {
   "cell_type": "code",
   "execution_count": null,
   "metadata": {},
   "outputs": [],
   "source": []
  },
  {
   "cell_type": "code",
   "execution_count": null,
   "metadata": {},
   "outputs": [],
   "source": []
  }
 ],
 "metadata": {
  "kernelspec": {
   "display_name": "Python 3",
   "language": "python",
   "name": "python3"
  },
  "language_info": {
   "codemirror_mode": {
    "name": "ipython",
    "version": 3
   },
   "file_extension": ".py",
   "mimetype": "text/x-python",
   "name": "python",
   "nbconvert_exporter": "python",
   "pygments_lexer": "ipython3",
   "version": "3.6.8"
  }
 },
 "nbformat": 4,
 "nbformat_minor": 2
}
