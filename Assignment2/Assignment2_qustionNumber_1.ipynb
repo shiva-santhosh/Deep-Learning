{
 "cells": [
  {
   "cell_type": "code",
   "execution_count": 8,
   "metadata": {},
   "outputs": [],
   "source": [
    "import gensim\n",
    "import numpy as np\n",
    "import nltk as nltk\n",
    "from gensim.models import Word2Vec \n",
    "from sklearn.datasets import fetch_20newsgroups\n",
    "from nltk.tokenize import sent_tokenize,word_tokenize\n",
    "from sklearn.manifold import TSNE\n",
    "from matplotlib import pyplot as plt\n",
    "def cleanText(text):\n",
    "    k= [word.lower() for word in word_tokenize(text) if word.isalpha()]\n",
    "    return(k)\n"
   ]
  },
  {
   "cell_type": "code",
   "execution_count": 9,
   "metadata": {},
   "outputs": [],
   "source": [
    "newsGroup = fetch_20newsgroups(subset='all')"
   ]
  },
  {
   "cell_type": "markdown",
   "metadata": {},
   "source": [
    "Fetched 20-newsGroup dataset"
   ]
  },
  {
   "cell_type": "code",
   "execution_count": 10,
   "metadata": {},
   "outputs": [
    {
     "data": {
      "text/plain": [
       "['from',\n",
       " 'mamatha',\n",
       " 'devineni',\n",
       " 'ratnam',\n",
       " 'subject',\n",
       " 'pens',\n",
       " 'fans',\n",
       " 'reactions',\n",
       " 'organization',\n",
       " 'post',\n",
       " 'office',\n",
       " 'carnegie',\n",
       " 'mellon',\n",
       " 'pittsburgh',\n",
       " 'pa',\n",
       " 'lines',\n",
       " 'i',\n",
       " 'am',\n",
       " 'sure',\n",
       " 'some',\n",
       " 'bashers',\n",
       " 'of',\n",
       " 'pens',\n",
       " 'fans',\n",
       " 'are',\n",
       " 'pretty',\n",
       " 'confused',\n",
       " 'about',\n",
       " 'the',\n",
       " 'lack',\n",
       " 'of',\n",
       " 'any',\n",
       " 'kind',\n",
       " 'of',\n",
       " 'posts',\n",
       " 'about',\n",
       " 'the',\n",
       " 'recent',\n",
       " 'pens',\n",
       " 'massacre',\n",
       " 'of',\n",
       " 'the',\n",
       " 'devils',\n",
       " 'actually',\n",
       " 'i',\n",
       " 'am',\n",
       " 'bit',\n",
       " 'puzzled',\n",
       " 'too',\n",
       " 'and',\n",
       " 'a',\n",
       " 'bit',\n",
       " 'relieved',\n",
       " 'however',\n",
       " 'i',\n",
       " 'am',\n",
       " 'going',\n",
       " 'to',\n",
       " 'put',\n",
       " 'an',\n",
       " 'end',\n",
       " 'to',\n",
       " 'relief',\n",
       " 'with',\n",
       " 'a',\n",
       " 'bit',\n",
       " 'of',\n",
       " 'praise',\n",
       " 'for',\n",
       " 'the',\n",
       " 'pens',\n",
       " 'man',\n",
       " 'they',\n",
       " 'are',\n",
       " 'killing',\n",
       " 'those',\n",
       " 'devils',\n",
       " 'worse',\n",
       " 'than',\n",
       " 'i',\n",
       " 'thought',\n",
       " 'jagr',\n",
       " 'just',\n",
       " 'showed',\n",
       " 'you',\n",
       " 'why',\n",
       " 'he',\n",
       " 'is',\n",
       " 'much',\n",
       " 'better',\n",
       " 'than',\n",
       " 'his',\n",
       " 'regular',\n",
       " 'season',\n",
       " 'stats',\n",
       " 'he',\n",
       " 'is',\n",
       " 'also',\n",
       " 'a',\n",
       " 'lot',\n",
       " 'fo',\n",
       " 'fun',\n",
       " 'to',\n",
       " 'watch',\n",
       " 'in',\n",
       " 'the',\n",
       " 'playoffs',\n",
       " 'bowman',\n",
       " 'should',\n",
       " 'let',\n",
       " 'jagr',\n",
       " 'have',\n",
       " 'a',\n",
       " 'lot',\n",
       " 'of',\n",
       " 'fun',\n",
       " 'in',\n",
       " 'the',\n",
       " 'next',\n",
       " 'couple',\n",
       " 'of',\n",
       " 'games',\n",
       " 'since',\n",
       " 'the',\n",
       " 'pens',\n",
       " 'are',\n",
       " 'going',\n",
       " 'to',\n",
       " 'beat',\n",
       " 'the',\n",
       " 'pulp',\n",
       " 'out',\n",
       " 'of',\n",
       " 'jersey',\n",
       " 'anyway',\n",
       " 'i',\n",
       " 'was',\n",
       " 'very',\n",
       " 'disappointed',\n",
       " 'not',\n",
       " 'to',\n",
       " 'see',\n",
       " 'the',\n",
       " 'islanders',\n",
       " 'lose',\n",
       " 'the',\n",
       " 'final',\n",
       " 'regular',\n",
       " 'season',\n",
       " 'game',\n",
       " 'pens',\n",
       " 'rule']"
      ]
     },
     "execution_count": 10,
     "metadata": {},
     "output_type": "execute_result"
    }
   ],
   "source": [
    "goodSentences = []\n",
    "for i in newsGroup.data :\n",
    "    goodSentences.append(cleanText(i))\n",
    "goodSentences[0]"
   ]
  },
  {
   "cell_type": "markdown",
   "metadata": {},
   "source": [
    "Spilted each paragraph into list of words"
   ]
  },
  {
   "cell_type": "code",
   "execution_count": 25,
   "metadata": {},
   "outputs": [],
   "source": [
    "#skip gram model\n",
    "model = gensim.models.Word2Vec(goodSentences, min_count = 10, size = 100, window = 5, sg = 1) \n",
    "#CBOW model\n",
    "model2 = gensim.models.Word2Vec(goodSentences,min_count=10,size=100,sg=0,window=5) "
   ]
  },
  {
   "cell_type": "markdown",
   "metadata": {},
   "source": [
    "Now each word is represented as Word2Vec\n",
    "in skipgram and CBOW model"
   ]
  },
  {
   "cell_type": "code",
   "execution_count": 27,
   "metadata": {},
   "outputs": [
    {
     "name": "stdout",
     "output_type": "stream",
     "text": [
      "Skip-Gram model\n",
      "Word2Vec(vocab=21178, size=100, alpha=0.025)\n",
      "CBOW Model\n",
      "Word2Vec(vocab=21178, size=100, alpha=0.025)\n"
     ]
    }
   ],
   "source": [
    "print(\"Skip-Gram model\")\n",
    "print(model)\n",
    "print(\"CBOW Model\")\n",
    "print(model2)"
   ]
  },
  {
   "cell_type": "code",
   "execution_count": 28,
   "metadata": {},
   "outputs": [
    {
     "name": "stdout",
     "output_type": "stream",
     "text": [
      "Skip-Gram Model\n",
      "21178\n",
      "CBOW Model\n",
      "21178\n"
     ]
    }
   ],
   "source": [
    "#skip-gram model\n",
    "print(\"Skip-Gram Model\")\n",
    "vocabulary = list(model.wv.vocab) \n",
    "print(len(vocabulary))\n",
    "#CBOW model\n",
    "print(\"CBOW Model\")\n",
    "vocabulary2 = list(model2.wv.vocab) \n",
    "print(len(vocabulary2))"
   ]
  },
  {
   "cell_type": "markdown",
   "metadata": {},
   "source": [
    "Vocabulary size is 21178"
   ]
  },
  {
   "cell_type": "code",
   "execution_count": 29,
   "metadata": {},
   "outputs": [
    {
     "name": "stdout",
     "output_type": "stream",
     "text": [
      "Skip-Gram Model\n",
      "[('tires', 0.7857781648635864), ('bicycle', 0.7612311840057373), ('camry', 0.7510456442832947), ('sentra', 0.7485638856887817), ('toyota', 0.746119499206543), ('civic', 0.7442732453346252), ('taurus', 0.7342429161071777), ('corvette', 0.7339216470718384), ('nissan', 0.7287704944610596), ('audi', 0.7287688255310059), ('subaru', 0.7206991910934448), ('saab', 0.7153974175453186), ('sporty', 0.7153868675231934), ('tire', 0.7150723934173584), ('svx', 0.7148271799087524), ('accord', 0.7140721082687378), ('celica', 0.711061954498291), ('mazda', 0.7108465433120728), ('motorcycle', 0.7032800912857056), ('honda', 0.7031876444816589)]\n",
      "CBOW Model\n",
      "[('bike', 0.7799072861671448), ('tires', 0.7193182706832886), ('helmet', 0.6894192695617676), ('engine', 0.6796683073043823), ('seat', 0.6601468324661255), ('dealer', 0.6577131748199463), ('passenger', 0.6498311758041382), ('truck', 0.6434078216552734), ('honda', 0.6366091370582581), ('motorcycle', 0.627327024936676), ('driving', 0.6179678440093994), ('cars', 0.6170011758804321), ('owner', 0.6124937534332275), ('cage', 0.6122761964797974), ('stock', 0.608473539352417), ('tank', 0.6046586632728577), ('mustang', 0.5980817079544067), ('ford', 0.5898042917251587), ('gear', 0.5871906280517578), ('wheel', 0.5809273719787598)]\n"
     ]
    }
   ],
   "source": [
    "#skip-gram model\n",
    "print(\"Skip-Gram Model\")\n",
    "similarWords = model.wv.most_similar('car',topn=20)\t\n",
    "print(similarWords)\n",
    "#CBOW model\n",
    "print(\"CBOW Model\")\n",
    "similarWords = model2.wv.most_similar('car',topn=20)\t\n",
    "print(similarWords)"
   ]
  },
  {
   "cell_type": "markdown",
   "metadata": {},
   "source": [
    "Above are the top 20 similar words for car"
   ]
  },
  {
   "cell_type": "code",
   "execution_count": 30,
   "metadata": {},
   "outputs": [
    {
     "name": "stdout",
     "output_type": "stream",
     "text": [
      "Skip-Gram Model :\n",
      "[('son', 0.6729869842529297), ('womb', 0.6624008417129517), ('hast', 0.6607785224914551), ('bayonet', 0.6478488445281982), ('elohim', 0.6466984152793884)]\n",
      "CBOW Model :\n",
      "[('golf', 0.5655436515808105), ('televised', 0.5317667722702026), ('telecast', 0.5260354280471802), ('football', 0.5230066776275635), ('umps', 0.5203878879547119)]\n"
     ]
    }
   ],
   "source": [
    "print(\"Skip-Gram Model :\")\n",
    "result = model.wv.most_similar(positive=['girl', 'father'], negative=['boy'] ,topn=5 )\n",
    "print(result)\n",
    "print(\"CBOW Model :\")\n",
    "result = model.wv.most_similar(positive=['sports', 'ball'], negative=['bat'] ,topn=5 )\n",
    "print(result)"
   ]
  },
  {
   "cell_type": "markdown",
   "metadata": {},
   "source": [
    "Above are the top 5 similar words for girl + father - boy\n",
    "Above are the top 5 similar words for sports - bat + ball"
   ]
  },
  {
   "cell_type": "code",
   "execution_count": 32,
   "metadata": {},
   "outputs": [
    {
     "name": "stderr",
     "output_type": "stream",
     "text": [
      "/usr/local/lib/python3.6/dist-packages/ipykernel_launcher.py:7: DeprecationWarning: Call to deprecated `__getitem__` (Method will be removed in 4.0.0, use self.wv.__getitem__() instead).\n",
      "  import sys\n",
      "/usr/local/lib/python3.6/dist-packages/ipykernel_launcher.py:16: DeprecationWarning: Call to deprecated `__getitem__` (Method will be removed in 4.0.0, use self.wv.__getitem__() instead).\n",
      "  app.launch_new_instance()\n"
     ]
    }
   ],
   "source": [
    "pltWord=['baseball','software','police', 'government', 'circuit', 'car']\n",
    "X = np.zeros((120,100))\n",
    "i=0\n",
    "for word in pltWord:\n",
    "    similarWords =  model.wv.most_similar(word,topn=20)\n",
    "    for simWord in similarWords :\n",
    "        X[i]=model[simWord[0]]\n",
    "        i=i+1\n",
    "\n",
    "    \n",
    "X2 = np.zeros((120,100))\n",
    "i=0\n",
    "for word in pltWord:\n",
    "    similarWords =  model2.wv.most_similar(word,topn=20)\n",
    "    for simWord in similarWords:\n",
    "        X2[i]=model2[simWord[0]]\n",
    "        i=i+1\n"
   ]
  },
  {
   "cell_type": "code",
   "execution_count": 33,
   "metadata": {},
   "outputs": [],
   "source": [
    "tsne = TSNE(n_components=2, random_state=0)\n",
    "X_2d = tsne.fit_transform(X)\n",
    "tsne = TSNE(n_components=2, random_state=0)\n",
    "X2_2d = tsne.fit_transform(X2)"
   ]
  },
  {
   "cell_type": "code",
   "execution_count": 37,
   "metadata": {},
   "outputs": [
    {
     "name": "stdout",
     "output_type": "stream",
     "text": [
      "Skip Gram Model :\n",
      "CBOW Model :\n"
     ]
    },
    {
     "data": {
      "text/plain": [
       "<matplotlib.legend.Legend at 0x7f514268af28>"
      ]
     },
     "execution_count": 37,
     "metadata": {},
     "output_type": "execute_result"
    },
    {
     "data": {
      "image/png": "[encoded data removed]",
      "text/plain": [
       "<Figure size 576x576 with 1 Axes>"
      ]
     },
     "metadata": {
      "needs_background": "light"
     },
     "output_type": "display_data"
    },
    {
     "data": {
      "image/png": "[encoded data removed]",
      "text/plain": [
       "<Figure size 576x576 with 1 Axes>"
      ]
     },
     "metadata": {
      "needs_background": "light"
     },
     "output_type": "display_data"
    }
   ],
   "source": [
    "colors = ['r', 'g', 'b', 'c', 'm', 'y']\n",
    "labels=['baseball','software','police', 'government', 'circuit', 'car']\n",
    "\n",
    "plt.figure(figsize=(8,8))\n",
    "print(\"Skip Gram Model :\")\n",
    "plt.title(\"SKip gram Model\")\n",
    "for i in range(0,6):\n",
    "    c =colors[i]\n",
    "    x= X_2d[20*i:20*(i+1)-1,0]\n",
    "    y= X_2d[20*i:20*(i+1)-1,1]\n",
    "    plt.scatter(x,y,c=c,label=labels[i])\n",
    "plt.legend()\n",
    "\n",
    "plt.figure(figsize=(8,8))\n",
    "print(\"CBOW Model :\")\n",
    "plt.title(\"CBOW Model\")\n",
    "for i in range(0,6):\n",
    "    c =colors[i]\n",
    "    x= X2_2d[20*i:20*(i+1)-1,0]\n",
    "    y= X2_2d[20*i:20*(i+1)-1,1]\n",
    "    plt.scatter(x,y,c=c,label=labels[i])\n",
    "plt.legend()\n",
    "    \n",
    "  "
   ]
  },
  {
   "cell_type": "code",
   "execution_count": 38,
   "metadata": {},
   "outputs": [],
   "source": [
    "import tensorflow as tf \n",
    "import matplotlib.pyplot as plt\n",
    "from keras.layers import LeakyReLU"
   ]
  },
  {
   "cell_type": "code",
   "execution_count": 39,
   "metadata": {},
   "outputs": [],
   "source": [
    "vectorData = np.zeros((len(goodSentences),100))\n",
    "i=0\n",
    "j=0\n",
    "for paragraph in goodSentences:\n",
    "    x = np.zeros((100)) \n",
    "    j = 0 \n",
    "    for word in paragraph :\n",
    "        if word in model.wv :\n",
    "            x = x + model.wv[word] \n",
    "            j = j + 1 \n",
    "    vectorData[i] = x / j \n",
    "    i = i + 1 \n",
    "    \n",
    "vectorData2 = np.zeros((len(goodSentences),100))\n",
    "i=0\n",
    "j=0\n",
    "for paragraph in goodSentences:\n",
    "    x = np.zeros((100)) \n",
    "    j = 0 \n",
    "    for word in paragraph :\n",
    "        if word in model2.wv :\n",
    "            x = x + model2.wv[word] \n",
    "            j = j + 1 \n",
    "    vectorData2[i] = x / j \n",
    "    i = i + 1\n",
    "vectorData = tf.keras.utils.normalize(vectorData)\n",
    "outputData = list(newsGroup.target)\n",
    "\n",
    "vectorData2 = tf.keras.utils.normalize(vectorData2)\n",
    "outputData2 = list(newsGroup.target)"
   ]
  },
  {
   "cell_type": "code",
   "execution_count": 55,
   "metadata": {},
   "outputs": [],
   "source": [
    "model1 = tf.keras.Sequential()\n",
    "model1.add(tf.keras.layers.Flatten(input_shape=(100,)))\n",
    "model1.add(tf.keras.layers.Dense(100,activation = tf.nn.tanh))\n",
    "model1.add(tf.keras.layers.Dense(100,activation = tf.nn.leaky_relu))\n",
    "model1.add(tf.keras.layers.Dense(20,activation = tf.nn.softmax ))\n",
    "\n",
    "model3 = tf.keras.Sequential()\n",
    "model3.add(tf.keras.layers.Flatten(input_shape=(100,)))\n",
    "model3.add(tf.keras.layers.Dense(100,activation = tf.nn.tanh))\n",
    "model3.add(tf.keras.layers.Dense(100,activation = tf.nn.leaky_relu))\n",
    "model3.add(tf.keras.layers.Dense(20,activation = tf.nn.softmax ))"
   ]
  },
  {
   "cell_type": "code",
   "execution_count": 49,
   "metadata": {},
   "outputs": [],
   "source": [
    "x_testData = vectorData[:int(0.2*len(vectorData))]\n",
    "y_testData = outputData[:int(0.2*len(outputData))]\n",
    "x_trainData = vectorData[int(0.2*len(vectorData)):]\n",
    "y_trainData = outputData[int(0.2*len(outputData)):]\n",
    "\n",
    "x_testData1 = vectorData2[:int(0.2*len(vectorData))]\n",
    "y_testData1 = outputData2[:int(0.2*len(outputData))]\n",
    "x_trainData1 = vectorData2[int(0.2*len(vectorData)):]\n",
    "y_trainData1 = outputData2[int(0.2*len(outputData)):]\n",
    "\n",
    "\n",
    "y_trainData = np.array(y_trainData)\n",
    "y_trainData1 = np.array(y_trainData1)\n",
    "y_testData = np.array(y_testData)\n",
    "y_testData1 = np.array(y_testData1)"
   ]
  },
  {
   "cell_type": "code",
   "execution_count": 56,
   "metadata": {},
   "outputs": [],
   "source": [
    "model1.compile(optimizer='adam',\n",
    "               loss= tf.keras.losses.sparse_categorical_crossentropy\n",
    "               , metrics=['accuracy'])\n",
    "model3.compile(optimizer='adam',\n",
    "               loss= tf.keras.losses.sparse_categorical_crossentropy\n",
    "               , metrics=['accuracy'])"
   ]
  },
  {
   "cell_type": "code",
   "execution_count": 80,
   "metadata": {},
   "outputs": [
    {
     "name": "stdout",
     "output_type": "stream",
     "text": [
      "Train on 13569 samples, validate on 1508 samples\n",
      "Epoch 1/100\n",
      "13569/13569 [==============================] - 1s 66us/sample - loss: 0.7305 - acc: 0.7558 - val_loss: 0.7213 - val_acc: 0.7540\n",
      "Epoch 2/100\n",
      "13569/13569 [==============================] - 1s 65us/sample - loss: 0.7156 - acc: 0.7584 - val_loss: 0.7366 - val_acc: 0.7447\n",
      "Epoch 3/100\n",
      "13569/13569 [==============================] - 1s 65us/sample - loss: 0.7047 - acc: 0.7663 - val_loss: 0.7311 - val_acc: 0.7566\n",
      "Epoch 4/100\n",
      "13569/13569 [==============================] - 1s 66us/sample - loss: 0.6943 - acc: 0.7691 - val_loss: 0.7284 - val_acc: 0.7520\n",
      "Epoch 5/100\n",
      "13569/13569 [==============================] - 1s 65us/sample - loss: 0.6855 - acc: 0.7689 - val_loss: 0.7050 - val_acc: 0.7626\n",
      "Epoch 6/100\n",
      "13569/13569 [==============================] - 1s 65us/sample - loss: 0.6771 - acc: 0.7733 - val_loss: 0.7208 - val_acc: 0.7659\n",
      "Epoch 7/100\n",
      "13569/13569 [==============================] - 1s 65us/sample - loss: 0.6713 - acc: 0.7745 - val_loss: 0.7086 - val_acc: 0.7686\n",
      "Epoch 8/100\n",
      "13569/13569 [==============================] - 1s 66us/sample - loss: 0.6712 - acc: 0.7753 - val_loss: 0.6930 - val_acc: 0.7732\n",
      "Epoch 9/100\n",
      "13569/13569 [==============================] - 1s 66us/sample - loss: 0.6501 - acc: 0.7822 - val_loss: 0.6895 - val_acc: 0.7712\n",
      "Epoch 10/100\n",
      "13569/13569 [==============================] - 1s 66us/sample - loss: 0.6527 - acc: 0.7782 - val_loss: 0.6960 - val_acc: 0.7672\n",
      "Epoch 11/100\n",
      "13569/13569 [==============================] - 1s 66us/sample - loss: 0.6402 - acc: 0.7824 - val_loss: 0.6683 - val_acc: 0.7798\n",
      "Epoch 12/100\n",
      "13569/13569 [==============================] - 1s 67us/sample - loss: 0.6397 - acc: 0.7836 - val_loss: 0.6920 - val_acc: 0.7692\n",
      "Epoch 13/100\n",
      "13569/13569 [==============================] - 1s 66us/sample - loss: 0.6315 - acc: 0.7897 - val_loss: 0.6989 - val_acc: 0.7613\n",
      "Epoch 14/100\n",
      "13569/13569 [==============================] - 1s 66us/sample - loss: 0.6241 - acc: 0.7887 - val_loss: 0.6837 - val_acc: 0.7719\n",
      "Epoch 15/100\n",
      "13569/13569 [==============================] - 1s 66us/sample - loss: 0.6213 - acc: 0.7917 - val_loss: 0.6902 - val_acc: 0.7692\n",
      "Epoch 16/100\n",
      "13569/13569 [==============================] - 1s 66us/sample - loss: 0.6237 - acc: 0.7904 - val_loss: 0.6807 - val_acc: 0.7792\n",
      "Epoch 17/100\n",
      "13569/13569 [==============================] - 1s 67us/sample - loss: 0.6136 - acc: 0.7908 - val_loss: 0.6851 - val_acc: 0.7745\n",
      "Epoch 18/100\n",
      "13569/13569 [==============================] - 1s 66us/sample - loss: 0.6077 - acc: 0.7947 - val_loss: 0.6651 - val_acc: 0.7759\n",
      "Epoch 19/100\n",
      "13569/13569 [==============================] - 1s 66us/sample - loss: 0.6000 - acc: 0.7973 - val_loss: 0.7274 - val_acc: 0.7626\n",
      "Epoch 20/100\n",
      "13569/13569 [==============================] - 1s 66us/sample - loss: 0.6006 - acc: 0.7967 - val_loss: 0.6609 - val_acc: 0.7798\n",
      "Epoch 21/100\n",
      "13569/13569 [==============================] - 1s 65us/sample - loss: 0.5949 - acc: 0.7977 - val_loss: 0.6773 - val_acc: 0.7706\n",
      "Epoch 22/100\n",
      "13569/13569 [==============================] - 1s 66us/sample - loss: 0.5921 - acc: 0.7992 - val_loss: 0.7058 - val_acc: 0.7646\n",
      "Epoch 23/100\n",
      "13569/13569 [==============================] - 1s 66us/sample - loss: 0.5947 - acc: 0.8007 - val_loss: 0.6818 - val_acc: 0.7639\n",
      "Epoch 24/100\n",
      "13569/13569 [==============================] - 1s 66us/sample - loss: 0.5838 - acc: 0.8012 - val_loss: 0.6818 - val_acc: 0.7725\n",
      "Epoch 25/100\n",
      "13569/13569 [==============================] - 1s 67us/sample - loss: 0.5781 - acc: 0.8031 - val_loss: 0.6708 - val_acc: 0.7798\n",
      "Epoch 26/100\n",
      "13569/13569 [==============================] - 1s 67us/sample - loss: 0.5854 - acc: 0.8040 - val_loss: 0.6577 - val_acc: 0.7812\n",
      "Epoch 27/100\n",
      "13569/13569 [==============================] - 1s 67us/sample - loss: 0.5724 - acc: 0.8060 - val_loss: 0.6875 - val_acc: 0.7639\n",
      "Epoch 28/100\n",
      "13569/13569 [==============================] - 1s 67us/sample - loss: 0.5694 - acc: 0.8080 - val_loss: 0.6842 - val_acc: 0.7805\n",
      "Epoch 29/100\n",
      "13569/13569 [==============================] - 1s 68us/sample - loss: 0.5643 - acc: 0.8079 - val_loss: 0.6622 - val_acc: 0.7739\n",
      "Epoch 30/100\n",
      "13569/13569 [==============================] - 1s 68us/sample - loss: 0.5597 - acc: 0.8113 - val_loss: 0.6845 - val_acc: 0.7759\n",
      "Epoch 31/100\n",
      "13569/13569 [==============================] - 1s 69us/sample - loss: 0.5635 - acc: 0.8088 - val_loss: 0.6538 - val_acc: 0.7805\n",
      "Epoch 32/100\n",
      "13569/13569 [==============================] - 1s 68us/sample - loss: 0.5578 - acc: 0.8105 - val_loss: 0.6821 - val_acc: 0.7851\n",
      "Epoch 33/100\n",
      "13569/13569 [==============================] - 1s 67us/sample - loss: 0.5524 - acc: 0.8121 - val_loss: 0.6751 - val_acc: 0.7759\n",
      "Epoch 34/100\n",
      "13569/13569 [==============================] - 1s 66us/sample - loss: 0.5539 - acc: 0.8127 - val_loss: 0.6694 - val_acc: 0.7785\n",
      "Epoch 35/100\n",
      "13569/13569 [==============================] - 1s 67us/sample - loss: 0.5482 - acc: 0.8139 - val_loss: 0.6685 - val_acc: 0.7725\n",
      "Epoch 36/100\n",
      "13569/13569 [==============================] - 1s 67us/sample - loss: 0.5498 - acc: 0.8107 - val_loss: 0.6813 - val_acc: 0.7792\n",
      "Epoch 37/100\n",
      "13569/13569 [==============================] - 1s 66us/sample - loss: 0.5432 - acc: 0.8125 - val_loss: 0.6928 - val_acc: 0.7719\n",
      "Epoch 38/100\n",
      "13569/13569 [==============================] - 1s 66us/sample - loss: 0.5423 - acc: 0.8149 - val_loss: 0.6703 - val_acc: 0.7719\n",
      "Epoch 39/100\n",
      "13569/13569 [==============================] - 1s 67us/sample - loss: 0.5334 - acc: 0.8194 - val_loss: 0.6798 - val_acc: 0.7686\n",
      "Epoch 40/100\n",
      "13569/13569 [==============================] - 1s 66us/sample - loss: 0.5316 - acc: 0.8215 - val_loss: 0.6750 - val_acc: 0.7792\n",
      "Epoch 41/100\n",
      "13569/13569 [==============================] - 1s 66us/sample - loss: 0.5308 - acc: 0.8217 - val_loss: 0.6498 - val_acc: 0.7832\n",
      "Epoch 42/100\n",
      "13569/13569 [==============================] - 1s 66us/sample - loss: 0.5263 - acc: 0.8211 - val_loss: 0.6895 - val_acc: 0.7825\n",
      "Epoch 43/100\n",
      "13569/13569 [==============================] - 1s 65us/sample - loss: 0.5256 - acc: 0.8203 - val_loss: 0.6685 - val_acc: 0.7845\n",
      "Epoch 44/100\n",
      "13569/13569 [==============================] - 1s 66us/sample - loss: 0.5250 - acc: 0.8224 - val_loss: 0.6813 - val_acc: 0.7772\n",
      "Epoch 45/100\n",
      "13569/13569 [==============================] - 1s 66us/sample - loss: 0.5155 - acc: 0.8299 - val_loss: 0.6834 - val_acc: 0.7745\n",
      "Epoch 46/100\n",
      "13569/13569 [==============================] - 1s 66us/sample - loss: 0.5124 - acc: 0.8262 - val_loss: 0.6660 - val_acc: 0.7818\n",
      "Epoch 47/100\n",
      "13569/13569 [==============================] - 1s 66us/sample - loss: 0.5102 - acc: 0.8267 - val_loss: 0.6811 - val_acc: 0.7745\n",
      "Epoch 48/100\n",
      "13569/13569 [==============================] - 1s 66us/sample - loss: 0.5085 - acc: 0.8264 - val_loss: 0.6892 - val_acc: 0.7792\n",
      "Epoch 49/100\n",
      "13569/13569 [==============================] - 1s 66us/sample - loss: 0.5073 - acc: 0.8280 - val_loss: 0.6810 - val_acc: 0.7745\n",
      "Epoch 50/100\n",
      "13569/13569 [==============================] - 1s 66us/sample - loss: 0.5039 - acc: 0.8318 - val_loss: 0.6712 - val_acc: 0.7898\n",
      "Epoch 51/100\n",
      "13569/13569 [==============================] - 1s 66us/sample - loss: 0.5051 - acc: 0.8300 - val_loss: 0.6740 - val_acc: 0.7785\n",
      "Epoch 52/100\n",
      "13569/13569 [==============================] - 1s 66us/sample - loss: 0.5029 - acc: 0.8282 - val_loss: 0.6882 - val_acc: 0.7798\n",
      "Epoch 53/100\n",
      "13569/13569 [==============================] - 1s 66us/sample - loss: 0.4924 - acc: 0.8298 - val_loss: 0.6882 - val_acc: 0.7759\n",
      "Epoch 54/100\n",
      "13569/13569 [==============================] - 1s 65us/sample - loss: 0.4891 - acc: 0.8357 - val_loss: 0.7077 - val_acc: 0.7686\n",
      "Epoch 55/100\n",
      "13569/13569 [==============================] - 1s 66us/sample - loss: 0.4943 - acc: 0.8323 - val_loss: 0.6813 - val_acc: 0.7798\n",
      "Epoch 56/100\n",
      "13569/13569 [==============================] - 1s 66us/sample - loss: 0.4836 - acc: 0.8365 - val_loss: 0.6667 - val_acc: 0.7779\n",
      "Epoch 57/100\n",
      "13569/13569 [==============================] - 1s 66us/sample - loss: 0.4812 - acc: 0.8345 - val_loss: 0.6835 - val_acc: 0.7725\n",
      "Epoch 58/100\n",
      "13569/13569 [==============================] - 1s 66us/sample - loss: 0.4793 - acc: 0.8370 - val_loss: 0.7076 - val_acc: 0.7646\n"
     ]
    },
    {
     "name": "stdout",
     "output_type": "stream",
     "text": [
      "Epoch 59/100\n",
      "13569/13569 [==============================] - 1s 64us/sample - loss: 0.4876 - acc: 0.8359 - val_loss: 0.6890 - val_acc: 0.7792\n",
      "Epoch 60/100\n",
      "13569/13569 [==============================] - 1s 63us/sample - loss: 0.4744 - acc: 0.8398 - val_loss: 0.6836 - val_acc: 0.7725\n",
      "Epoch 61/100\n",
      "13569/13569 [==============================] - 1s 65us/sample - loss: 0.4711 - acc: 0.8393 - val_loss: 0.7141 - val_acc: 0.7759\n",
      "Epoch 62/100\n",
      "13569/13569 [==============================] - 1s 64us/sample - loss: 0.4701 - acc: 0.8409 - val_loss: 0.6728 - val_acc: 0.7812\n",
      "Epoch 63/100\n",
      "13569/13569 [==============================] - 1s 64us/sample - loss: 0.4673 - acc: 0.8381 - val_loss: 0.6805 - val_acc: 0.7792\n",
      "Epoch 64/100\n",
      "13569/13569 [==============================] - 0s 31us/sample - loss: 0.4676 - acc: 0.8401 - val_loss: 0.7082 - val_acc: 0.7679\n",
      "Epoch 65/100\n",
      "13569/13569 [==============================] - 0s 32us/sample - loss: 0.4663 - acc: 0.8409 - val_loss: 0.6870 - val_acc: 0.7825\n",
      "Epoch 66/100\n",
      "13569/13569 [==============================] - 0s 32us/sample - loss: 0.4578 - acc: 0.8446 - val_loss: 0.6974 - val_acc: 0.7759\n",
      "Epoch 67/100\n",
      "13569/13569 [==============================] - 0s 33us/sample - loss: 0.4545 - acc: 0.8438 - val_loss: 0.7006 - val_acc: 0.7739\n",
      "Epoch 68/100\n",
      "13569/13569 [==============================] - 0s 33us/sample - loss: 0.4558 - acc: 0.8448 - val_loss: 0.6984 - val_acc: 0.7779\n",
      "Epoch 69/100\n",
      "13569/13569 [==============================] - 0s 33us/sample - loss: 0.4493 - acc: 0.8467 - val_loss: 0.6981 - val_acc: 0.7779\n",
      "Epoch 70/100\n",
      "13569/13569 [==============================] - 0s 32us/sample - loss: 0.4458 - acc: 0.8495 - val_loss: 0.6955 - val_acc: 0.7772\n",
      "Epoch 71/100\n",
      "13569/13569 [==============================] - 1s 40us/sample - loss: 0.4526 - acc: 0.8473 - val_loss: 0.6833 - val_acc: 0.7798\n",
      "Epoch 72/100\n",
      "13569/13569 [==============================] - 1s 65us/sample - loss: 0.4468 - acc: 0.8486 - val_loss: 0.7017 - val_acc: 0.7725\n",
      "Epoch 73/100\n",
      "13569/13569 [==============================] - 1s 64us/sample - loss: 0.4378 - acc: 0.8530 - val_loss: 0.6781 - val_acc: 0.7785\n",
      "Epoch 74/100\n",
      "13569/13569 [==============================] - 1s 65us/sample - loss: 0.4388 - acc: 0.8501 - val_loss: 0.6909 - val_acc: 0.7765\n",
      "Epoch 75/100\n",
      "13569/13569 [==============================] - 1s 64us/sample - loss: 0.4329 - acc: 0.8568 - val_loss: 0.6935 - val_acc: 0.7772\n",
      "Epoch 76/100\n",
      "13569/13569 [==============================] - 1s 63us/sample - loss: 0.4352 - acc: 0.8508 - val_loss: 0.7175 - val_acc: 0.7845\n",
      "Epoch 77/100\n",
      "13569/13569 [==============================] - 0s 31us/sample - loss: 0.4320 - acc: 0.8539 - val_loss: 0.7106 - val_acc: 0.7805\n",
      "Epoch 78/100\n",
      "13569/13569 [==============================] - 0s 31us/sample - loss: 0.4248 - acc: 0.8561 - val_loss: 0.7324 - val_acc: 0.7779\n",
      "Epoch 79/100\n",
      "13569/13569 [==============================] - 0s 31us/sample - loss: 0.4290 - acc: 0.8547 - val_loss: 0.7048 - val_acc: 0.7805\n",
      "Epoch 80/100\n",
      "13569/13569 [==============================] - 0s 32us/sample - loss: 0.4209 - acc: 0.8587 - val_loss: 0.6877 - val_acc: 0.7798\n",
      "Epoch 81/100\n",
      "13569/13569 [==============================] - 0s 32us/sample - loss: 0.4198 - acc: 0.8593 - val_loss: 0.6991 - val_acc: 0.7865\n",
      "Epoch 82/100\n",
      "13569/13569 [==============================] - 0s 32us/sample - loss: 0.4208 - acc: 0.8560 - val_loss: 0.7043 - val_acc: 0.7765\n",
      "Epoch 83/100\n",
      "13569/13569 [==============================] - 0s 31us/sample - loss: 0.4135 - acc: 0.8589 - val_loss: 0.7000 - val_acc: 0.7759\n",
      "Epoch 84/100\n",
      "13569/13569 [==============================] - 1s 40us/sample - loss: 0.4118 - acc: 0.8625 - val_loss: 0.7301 - val_acc: 0.7706\n",
      "Epoch 85/100\n",
      "13569/13569 [==============================] - 1s 67us/sample - loss: 0.4062 - acc: 0.8631 - val_loss: 0.7027 - val_acc: 0.7779\n",
      "Epoch 86/100\n",
      "13569/13569 [==============================] - 1s 67us/sample - loss: 0.4095 - acc: 0.8628 - val_loss: 0.7135 - val_acc: 0.7812\n",
      "Epoch 87/100\n",
      "13569/13569 [==============================] - 1s 66us/sample - loss: 0.4064 - acc: 0.8645 - val_loss: 0.7049 - val_acc: 0.7825\n",
      "Epoch 88/100\n",
      "13569/13569 [==============================] - 1s 67us/sample - loss: 0.4098 - acc: 0.8607 - val_loss: 0.7047 - val_acc: 0.7772\n",
      "Epoch 89/100\n",
      "13569/13569 [==============================] - 1s 69us/sample - loss: 0.3961 - acc: 0.8660 - val_loss: 0.7120 - val_acc: 0.7792\n",
      "Epoch 90/100\n",
      "13569/13569 [==============================] - 1s 68us/sample - loss: 0.3933 - acc: 0.8685 - val_loss: 0.7569 - val_acc: 0.7805\n",
      "Epoch 91/100\n",
      "13569/13569 [==============================] - 1s 67us/sample - loss: 0.3920 - acc: 0.8682 - val_loss: 0.7470 - val_acc: 0.7759\n",
      "Epoch 92/100\n",
      "13569/13569 [==============================] - 1s 67us/sample - loss: 0.3942 - acc: 0.8648 - val_loss: 0.7299 - val_acc: 0.7798\n",
      "Epoch 93/100\n",
      "13569/13569 [==============================] - 1s 67us/sample - loss: 0.3969 - acc: 0.8633 - val_loss: 0.7165 - val_acc: 0.7792\n",
      "Epoch 94/100\n",
      "13569/13569 [==============================] - 1s 72us/sample - loss: 0.3885 - acc: 0.8659 - val_loss: 0.7187 - val_acc: 0.7798\n",
      "Epoch 95/100\n",
      "13569/13569 [==============================] - 1s 68us/sample - loss: 0.3871 - acc: 0.8665 - val_loss: 0.6916 - val_acc: 0.7851\n",
      "Epoch 96/100\n",
      "13569/13569 [==============================] - 1s 68us/sample - loss: 0.3842 - acc: 0.8694 - val_loss: 0.7423 - val_acc: 0.7745\n",
      "Epoch 97/100\n",
      "13569/13569 [==============================] - 1s 67us/sample - loss: 0.3776 - acc: 0.8744 - val_loss: 0.7247 - val_acc: 0.7739\n",
      "Epoch 98/100\n",
      "13569/13569 [==============================] - 1s 69us/sample - loss: 0.3813 - acc: 0.8700 - val_loss: 0.7283 - val_acc: 0.7745\n",
      "Epoch 99/100\n",
      "13569/13569 [==============================] - 1s 70us/sample - loss: 0.3782 - acc: 0.8710 - val_loss: 0.7204 - val_acc: 0.7699\n",
      "Epoch 100/100\n",
      "13569/13569 [==============================] - 1s 68us/sample - loss: 0.3718 - acc: 0.8752 - val_loss: 0.7313 - val_acc: 0.7838\n"
     ]
    },
    {
     "data": {
      "text/plain": [
       "<tensorflow.python.keras.callbacks.History at 0x7f5150fab0f0>"
      ]
     },
     "execution_count": 80,
     "metadata": {},
     "output_type": "execute_result"
    }
   ],
   "source": [
    "model1.fit(x_trainData,y_trainData,epochs=100,shuffle=True,validation_split=0.1)"
   ]
  },
  {
   "cell_type": "code",
   "execution_count": 57,
   "metadata": {},
   "outputs": [
    {
     "name": "stdout",
     "output_type": "stream",
     "text": [
      "Train on 13569 samples, validate on 1508 samples\n",
      "Epoch 1/100\n",
      "13569/13569 [==============================] - 5s 399us/sample - loss: 1.9729 - acc: 0.3684 - val_loss: 1.4813 - val_acc: 0.5080\n",
      "Epoch 2/100\n",
      "13569/13569 [==============================] - 5s 340us/sample - loss: 1.3993 - acc: 0.5230 - val_loss: 1.3067 - val_acc: 0.5544\n",
      "Epoch 3/100\n",
      "13569/13569 [==============================] - 5s 332us/sample - loss: 1.2887 - acc: 0.5600 - val_loss: 1.2306 - val_acc: 0.5962\n",
      "Epoch 4/100\n",
      "13569/13569 [==============================] - 5s 342us/sample - loss: 1.2346 - acc: 0.5815 - val_loss: 1.1965 - val_acc: 0.5975\n",
      "Epoch 5/100\n",
      "13569/13569 [==============================] - 5s 336us/sample - loss: 1.1982 - acc: 0.5926 - val_loss: 1.1654 - val_acc: 0.5975\n",
      "Epoch 6/100\n",
      "13569/13569 [==============================] - 5s 335us/sample - loss: 1.1664 - acc: 0.6034 - val_loss: 1.1369 - val_acc: 0.6187\n",
      "Epoch 7/100\n",
      "13569/13569 [==============================] - 5s 345us/sample - loss: 1.1399 - acc: 0.6090 - val_loss: 1.1235 - val_acc: 0.6233\n",
      "Epoch 8/100\n",
      "13569/13569 [==============================] - 5s 355us/sample - loss: 1.1195 - acc: 0.6211 - val_loss: 1.1177 - val_acc: 0.6386\n",
      "Epoch 9/100\n",
      "13569/13569 [==============================] - 5s 353us/sample - loss: 1.1061 - acc: 0.6238 - val_loss: 1.0911 - val_acc: 0.6253\n",
      "Epoch 10/100\n",
      "13569/13569 [==============================] - 5s 343us/sample - loss: 1.0842 - acc: 0.6323 - val_loss: 1.1121 - val_acc: 0.6320\n",
      "Epoch 11/100\n",
      "13569/13569 [==============================] - 5s 350us/sample - loss: 1.0723 - acc: 0.6349 - val_loss: 1.0721 - val_acc: 0.6353\n",
      "Epoch 12/100\n",
      "13569/13569 [==============================] - 5s 349us/sample - loss: 1.0568 - acc: 0.6416 - val_loss: 1.0781 - val_acc: 0.6346\n",
      "Epoch 13/100\n",
      "13569/13569 [==============================] - 5s 347us/sample - loss: 1.0419 - acc: 0.6468 - val_loss: 1.0641 - val_acc: 0.6552\n",
      "Epoch 14/100\n",
      "13569/13569 [==============================] - 5s 348us/sample - loss: 1.0312 - acc: 0.6509 - val_loss: 1.0515 - val_acc: 0.6525\n",
      "Epoch 15/100\n",
      "13569/13569 [==============================] - 5s 345us/sample - loss: 1.0229 - acc: 0.6530 - val_loss: 1.1029 - val_acc: 0.6200\n",
      "Epoch 16/100\n",
      "13569/13569 [==============================] - 5s 352us/sample - loss: 1.0158 - acc: 0.6535 - val_loss: 1.0512 - val_acc: 0.6638\n",
      "Epoch 17/100\n",
      "13569/13569 [==============================] - 5s 348us/sample - loss: 1.0045 - acc: 0.6600 - val_loss: 1.0513 - val_acc: 0.6432\n",
      "Epoch 18/100\n",
      "13569/13569 [==============================] - 5s 349us/sample - loss: 0.9973 - acc: 0.6607 - val_loss: 1.0599 - val_acc: 0.6485\n",
      "Epoch 19/100\n",
      "13569/13569 [==============================] - 5s 348us/sample - loss: 0.9891 - acc: 0.6629 - val_loss: 1.0683 - val_acc: 0.6386\n",
      "Epoch 20/100\n",
      "13569/13569 [==============================] - 5s 350us/sample - loss: 0.9879 - acc: 0.6592 - val_loss: 1.0547 - val_acc: 0.6466\n",
      "Epoch 21/100\n",
      "13569/13569 [==============================] - 5s 356us/sample - loss: 0.9735 - acc: 0.6693 - val_loss: 1.0271 - val_acc: 0.6552\n",
      "Epoch 22/100\n",
      "13569/13569 [==============================] - 5s 355us/sample - loss: 0.9659 - acc: 0.6729 - val_loss: 1.0414 - val_acc: 0.6578\n",
      "Epoch 23/100\n",
      "13569/13569 [==============================] - 5s 354us/sample - loss: 0.9636 - acc: 0.6698 - val_loss: 1.0308 - val_acc: 0.6651\n",
      "Epoch 24/100\n",
      "13569/13569 [==============================] - 5s 359us/sample - loss: 0.9578 - acc: 0.6734 - val_loss: 1.0409 - val_acc: 0.6479\n",
      "Epoch 25/100\n",
      "13569/13569 [==============================] - 5s 365us/sample - loss: 0.9511 - acc: 0.6771 - val_loss: 1.0353 - val_acc: 0.6565\n",
      "Epoch 26/100\n",
      "13569/13569 [==============================] - 5s 357us/sample - loss: 0.9411 - acc: 0.6785 - val_loss: 1.0258 - val_acc: 0.6664\n",
      "Epoch 27/100\n",
      "13569/13569 [==============================] - 5s 357us/sample - loss: 0.9398 - acc: 0.6813 - val_loss: 1.0286 - val_acc: 0.6472\n",
      "Epoch 28/100\n",
      "13569/13569 [==============================] - 5s 354us/sample - loss: 0.9340 - acc: 0.6818 - val_loss: 1.0177 - val_acc: 0.6472\n",
      "Epoch 29/100\n",
      "13569/13569 [==============================] - 5s 351us/sample - loss: 0.9278 - acc: 0.6852 - val_loss: 1.0398 - val_acc: 0.6538\n",
      "Epoch 30/100\n",
      "13569/13569 [==============================] - 5s 350us/sample - loss: 0.9214 - acc: 0.6881 - val_loss: 1.0406 - val_acc: 0.6459\n",
      "Epoch 31/100\n",
      "13569/13569 [==============================] - 5s 358us/sample - loss: 0.9184 - acc: 0.6863 - val_loss: 1.0559 - val_acc: 0.6479\n",
      "Epoch 32/100\n",
      "13569/13569 [==============================] - 5s 387us/sample - loss: 0.9206 - acc: 0.6874 - val_loss: 1.0179 - val_acc: 0.6638\n",
      "Epoch 33/100\n",
      "13569/13569 [==============================] - 5s 396us/sample - loss: 0.9077 - acc: 0.6916 - val_loss: 1.0653 - val_acc: 0.6505\n",
      "Epoch 34/100\n",
      "13569/13569 [==============================] - 5s 362us/sample - loss: 0.9085 - acc: 0.6901 - val_loss: 1.0110 - val_acc: 0.6678\n",
      "Epoch 35/100\n",
      "13569/13569 [==============================] - 5s 364us/sample - loss: 0.9034 - acc: 0.6912 - val_loss: 1.0337 - val_acc: 0.6545\n",
      "Epoch 36/100\n",
      "13569/13569 [==============================] - 5s 356us/sample - loss: 0.8917 - acc: 0.6942 - val_loss: 1.0168 - val_acc: 0.6519\n",
      "Epoch 37/100\n",
      "13569/13569 [==============================] - 5s 373us/sample - loss: 0.8912 - acc: 0.6968 - val_loss: 1.0121 - val_acc: 0.6611\n",
      "Epoch 38/100\n",
      "13569/13569 [==============================] - 5s 359us/sample - loss: 0.8850 - acc: 0.6969 - val_loss: 1.0362 - val_acc: 0.6572\n",
      "Epoch 39/100\n",
      "13569/13569 [==============================] - 5s 365us/sample - loss: 0.8783 - acc: 0.6968 - val_loss: 1.0216 - val_acc: 0.6505\n",
      "Epoch 40/100\n",
      "13569/13569 [==============================] - 5s 362us/sample - loss: 0.8777 - acc: 0.6979 - val_loss: 1.0231 - val_acc: 0.6578\n",
      "Epoch 41/100\n",
      "13569/13569 [==============================] - 5s 350us/sample - loss: 0.8728 - acc: 0.7032 - val_loss: 1.0391 - val_acc: 0.6512\n",
      "Epoch 42/100\n",
      "13569/13569 [==============================] - 5s 348us/sample - loss: 0.8650 - acc: 0.7054 - val_loss: 1.0226 - val_acc: 0.6565\n",
      "Epoch 43/100\n",
      "13569/13569 [==============================] - 5s 347us/sample - loss: 0.8660 - acc: 0.7043 - val_loss: 1.0232 - val_acc: 0.6711\n",
      "Epoch 44/100\n",
      "13569/13569 [==============================] - 5s 362us/sample - loss: 0.8621 - acc: 0.7057 - val_loss: 1.0209 - val_acc: 0.6592\n",
      "Epoch 45/100\n",
      "13569/13569 [==============================] - 5s 348us/sample - loss: 0.8542 - acc: 0.7080 - val_loss: 1.0181 - val_acc: 0.6658\n",
      "Epoch 46/100\n",
      "13569/13569 [==============================] - 5s 345us/sample - loss: 0.8496 - acc: 0.7065 - val_loss: 1.0280 - val_acc: 0.6505\n",
      "Epoch 47/100\n",
      "13569/13569 [==============================] - 5s 349us/sample - loss: 0.8474 - acc: 0.7106 - val_loss: 1.0248 - val_acc: 0.6565\n",
      "Epoch 48/100\n",
      "13569/13569 [==============================] - 5s 345us/sample - loss: 0.8427 - acc: 0.7132 - val_loss: 1.0198 - val_acc: 0.6572\n",
      "Epoch 49/100\n",
      "13569/13569 [==============================] - 5s 347us/sample - loss: 0.8363 - acc: 0.7127 - val_loss: 1.0494 - val_acc: 0.6479\n",
      "Epoch 50/100\n",
      "13569/13569 [==============================] - 5s 348us/sample - loss: 0.8352 - acc: 0.7113 - val_loss: 1.0204 - val_acc: 0.6578\n",
      "Epoch 51/100\n",
      "13569/13569 [==============================] - 5s 341us/sample - loss: 0.8291 - acc: 0.7187 - val_loss: 1.0494 - val_acc: 0.6545\n",
      "Epoch 52/100\n",
      "13569/13569 [==============================] - 5s 344us/sample - loss: 0.8294 - acc: 0.7148 - val_loss: 1.0047 - val_acc: 0.6698\n",
      "Epoch 53/100\n",
      "13569/13569 [==============================] - 5s 350us/sample - loss: 0.8219 - acc: 0.7196 - val_loss: 1.0396 - val_acc: 0.6618\n",
      "Epoch 54/100\n",
      "13569/13569 [==============================] - 5s 343us/sample - loss: 0.8235 - acc: 0.7199 - val_loss: 1.0115 - val_acc: 0.6645\n",
      "Epoch 55/100\n",
      "13569/13569 [==============================] - 5s 343us/sample - loss: 0.8181 - acc: 0.7171 - val_loss: 1.0141 - val_acc: 0.6572\n",
      "Epoch 56/100\n",
      "13569/13569 [==============================] - 5s 342us/sample - loss: 0.8110 - acc: 0.7244 - val_loss: 1.0128 - val_acc: 0.6671\n",
      "Epoch 57/100\n",
      "13569/13569 [==============================] - 5s 345us/sample - loss: 0.8063 - acc: 0.7210 - val_loss: 1.0186 - val_acc: 0.6737\n",
      "Epoch 58/100\n"
     ]
    },
    {
     "name": "stdout",
     "output_type": "stream",
     "text": [
      "13569/13569 [==============================] - 4s 326us/sample - loss: 0.8062 - acc: 0.7253 - val_loss: 1.0271 - val_acc: 0.6618\n",
      "Epoch 59/100\n",
      "13569/13569 [==============================] - 4s 326us/sample - loss: 0.8000 - acc: 0.7243 - val_loss: 1.0335 - val_acc: 0.6572\n",
      "Epoch 60/100\n",
      "13569/13569 [==============================] - 4s 327us/sample - loss: 0.8065 - acc: 0.7237 - val_loss: 1.0100 - val_acc: 0.6578\n",
      "Epoch 61/100\n",
      "13569/13569 [==============================] - 4s 328us/sample - loss: 0.7896 - acc: 0.7272 - val_loss: 1.0132 - val_acc: 0.6651\n",
      "Epoch 62/100\n",
      "13569/13569 [==============================] - 4s 328us/sample - loss: 0.7865 - acc: 0.7331 - val_loss: 1.0362 - val_acc: 0.6618\n",
      "Epoch 63/100\n",
      "13569/13569 [==============================] - 4s 326us/sample - loss: 0.7910 - acc: 0.7282 - val_loss: 1.0181 - val_acc: 0.6664\n",
      "Epoch 64/100\n",
      "13569/13569 [==============================] - 4s 325us/sample - loss: 0.7843 - acc: 0.7306 - val_loss: 1.0437 - val_acc: 0.6558\n",
      "Epoch 65/100\n",
      "13569/13569 [==============================] - 4s 329us/sample - loss: 0.7800 - acc: 0.7348 - val_loss: 1.0423 - val_acc: 0.6645\n",
      "Epoch 66/100\n",
      "13569/13569 [==============================] - 4s 331us/sample - loss: 0.7757 - acc: 0.7329 - val_loss: 1.0312 - val_acc: 0.6558\n",
      "Epoch 67/100\n",
      "13569/13569 [==============================] - 4s 327us/sample - loss: 0.7731 - acc: 0.7332 - val_loss: 1.0222 - val_acc: 0.6645\n",
      "Epoch 68/100\n",
      "13569/13569 [==============================] - 4s 324us/sample - loss: 0.7722 - acc: 0.7352 - val_loss: 1.0419 - val_acc: 0.6664\n",
      "Epoch 69/100\n",
      "13569/13569 [==============================] - 4s 324us/sample - loss: 0.7631 - acc: 0.7382 - val_loss: 1.0329 - val_acc: 0.6631\n",
      "Epoch 70/100\n",
      "13569/13569 [==============================] - 4s 331us/sample - loss: 0.7597 - acc: 0.7388 - val_loss: 1.0306 - val_acc: 0.6737\n",
      "Epoch 71/100\n",
      "13569/13569 [==============================] - 4s 327us/sample - loss: 0.7600 - acc: 0.7368 - val_loss: 1.0312 - val_acc: 0.6592\n",
      "Epoch 72/100\n",
      "13569/13569 [==============================] - 5s 373us/sample - loss: 0.7540 - acc: 0.7419 - val_loss: 1.0559 - val_acc: 0.6598\n",
      "Epoch 73/100\n",
      "13569/13569 [==============================] - 4s 289us/sample - loss: 0.7545 - acc: 0.7407 - val_loss: 1.0320 - val_acc: 0.6664\n",
      "Epoch 74/100\n",
      "13569/13569 [==============================] - 1s 66us/sample - loss: 0.7435 - acc: 0.7454 - val_loss: 1.0311 - val_acc: 0.6645\n",
      "Epoch 75/100\n",
      "13569/13569 [==============================] - 0s 32us/sample - loss: 0.7480 - acc: 0.7418 - val_loss: 1.0386 - val_acc: 0.6751\n",
      "Epoch 76/100\n",
      "13569/13569 [==============================] - 0s 31us/sample - loss: 0.7368 - acc: 0.7473 - val_loss: 1.0468 - val_acc: 0.6572\n",
      "Epoch 77/100\n",
      "13569/13569 [==============================] - 0s 32us/sample - loss: 0.7350 - acc: 0.7487 - val_loss: 1.0407 - val_acc: 0.6625\n",
      "Epoch 78/100\n",
      "13569/13569 [==============================] - 0s 33us/sample - loss: 0.7295 - acc: 0.7482 - val_loss: 1.0335 - val_acc: 0.6737\n",
      "Epoch 79/100\n",
      "13569/13569 [==============================] - 0s 32us/sample - loss: 0.7346 - acc: 0.7470 - val_loss: 1.0389 - val_acc: 0.6698\n",
      "Epoch 80/100\n",
      "13569/13569 [==============================] - 0s 33us/sample - loss: 0.7238 - acc: 0.7520 - val_loss: 1.0437 - val_acc: 0.6572\n",
      "Epoch 81/100\n",
      "13569/13569 [==============================] - 0s 32us/sample - loss: 0.7202 - acc: 0.7527 - val_loss: 1.1050 - val_acc: 0.6532\n",
      "Epoch 82/100\n",
      "13569/13569 [==============================] - 0s 33us/sample - loss: 0.7198 - acc: 0.7505 - val_loss: 1.0537 - val_acc: 0.6625\n",
      "Epoch 83/100\n",
      "13569/13569 [==============================] - 0s 32us/sample - loss: 0.7152 - acc: 0.7525 - val_loss: 1.0506 - val_acc: 0.6698\n",
      "Epoch 84/100\n",
      "13569/13569 [==============================] - 0s 33us/sample - loss: 0.7172 - acc: 0.7527 - val_loss: 1.0566 - val_acc: 0.6671\n",
      "Epoch 85/100\n",
      "13569/13569 [==============================] - 0s 32us/sample - loss: 0.7076 - acc: 0.7575 - val_loss: 1.0502 - val_acc: 0.6605\n",
      "Epoch 86/100\n",
      "13569/13569 [==============================] - 0s 32us/sample - loss: 0.7072 - acc: 0.7616 - val_loss: 1.0420 - val_acc: 0.6671\n",
      "Epoch 87/100\n",
      "13569/13569 [==============================] - 0s 33us/sample - loss: 0.7005 - acc: 0.7592 - val_loss: 1.0361 - val_acc: 0.6790\n",
      "Epoch 88/100\n",
      "13569/13569 [==============================] - 0s 33us/sample - loss: 0.7016 - acc: 0.7587 - val_loss: 1.0585 - val_acc: 0.6757\n",
      "Epoch 89/100\n",
      "13569/13569 [==============================] - 0s 33us/sample - loss: 0.7009 - acc: 0.7606 - val_loss: 1.0826 - val_acc: 0.6532\n",
      "Epoch 90/100\n",
      "13569/13569 [==============================] - 0s 32us/sample - loss: 0.6931 - acc: 0.7613 - val_loss: 1.0591 - val_acc: 0.6611\n",
      "Epoch 91/100\n",
      "13569/13569 [==============================] - 0s 33us/sample - loss: 0.6865 - acc: 0.7656 - val_loss: 1.0872 - val_acc: 0.6572\n",
      "Epoch 92/100\n",
      "13569/13569 [==============================] - 0s 33us/sample - loss: 0.6845 - acc: 0.7649 - val_loss: 1.0807 - val_acc: 0.6651\n",
      "Epoch 93/100\n",
      "13569/13569 [==============================] - 0s 32us/sample - loss: 0.6825 - acc: 0.7671 - val_loss: 1.0860 - val_acc: 0.6505\n",
      "Epoch 94/100\n",
      "13569/13569 [==============================] - 0s 32us/sample - loss: 0.6822 - acc: 0.7653 - val_loss: 1.0722 - val_acc: 0.6638\n",
      "Epoch 95/100\n",
      "13569/13569 [==============================] - 0s 32us/sample - loss: 0.6754 - acc: 0.7712 - val_loss: 1.0550 - val_acc: 0.6638\n",
      "Epoch 96/100\n",
      "13569/13569 [==============================] - 0s 33us/sample - loss: 0.6715 - acc: 0.7726 - val_loss: 1.0889 - val_acc: 0.6505\n",
      "Epoch 97/100\n",
      "13569/13569 [==============================] - 0s 32us/sample - loss: 0.6783 - acc: 0.7683 - val_loss: 1.0759 - val_acc: 0.6698\n",
      "Epoch 98/100\n",
      "13569/13569 [==============================] - 0s 33us/sample - loss: 0.6678 - acc: 0.7714 - val_loss: 1.0972 - val_acc: 0.6605\n",
      "Epoch 99/100\n",
      "13569/13569 [==============================] - 0s 34us/sample - loss: 0.6650 - acc: 0.7721 - val_loss: 1.1013 - val_acc: 0.6625\n",
      "Epoch 100/100\n",
      "13569/13569 [==============================] - 0s 33us/sample - loss: 0.6650 - acc: 0.7735 - val_loss: 1.0988 - val_acc: 0.6558\n"
     ]
    },
    {
     "data": {
      "text/plain": [
       "<tensorflow.python.keras.callbacks.History at 0x7f510c748710>"
      ]
     },
     "execution_count": 57,
     "metadata": {},
     "output_type": "execute_result"
    }
   ],
   "source": [
    "model3.fit(x_trainData1,y_trainData1,epochs=100,shuffle=True,validation_split=0.1)"
   ]
  },
  {
   "cell_type": "code",
   "execution_count": 81,
   "metadata": {},
   "outputs": [
    {
     "name": "stdout",
     "output_type": "stream",
     "text": [
      "Skip Gram Model :\n",
      "Performance with testData :\n",
      "3769/3769 [==============================] - 0s 36us/sample - loss: 0.7928 - acc: 0.7583\n"
     ]
    }
   ],
   "source": [
    "print(\"Skip Gram Model :\")\n",
    "print(\"Performance with testData :\")\n",
    "val_loss , val_acc = model1.evaluate(x_testData,y_testData)"
   ]
  },
  {
   "cell_type": "code",
   "execution_count": 82,
   "metadata": {},
   "outputs": [
    {
     "name": "stdout",
     "output_type": "stream",
     "text": [
      "CBOW Model :\n",
      "Performance with testData :\n",
      "3769/3769 [==============================] - 0s 33us/sample - loss: 1.1939 - acc: 0.6373\n"
     ]
    }
   ],
   "source": [
    "print(\"CBOW Model :\")\n",
    "print(\"Performance with testData :\")\n",
    "val_loss , val_acc = model3.evaluate(x_testData1,y_testData1)"
   ]
  },
  {
   "cell_type": "markdown",
   "metadata": {},
   "source": [
    "# For 20NewsGroup,\n",
    "## Skip-Gram Model is the preferred over CBOW model since it has more test accuracy ... "
   ]
  },
  {
   "cell_type": "code",
   "execution_count": null,
   "metadata": {},
   "outputs": [],
   "source": []
  },
  {
   "cell_type": "code",
   "execution_count": null,
   "metadata": {},
   "outputs": [],
   "source": []
  }
 ],
 "metadata": {
  "kernelspec": {
   "display_name": "Python 3",
   "language": "python",
   "name": "python3"
  },
  "language_info": {
   "codemirror_mode": {
    "name": "ipython",
    "version": 3
   },
   "file_extension": ".py",
   "mimetype": "text/x-python",
   "name": "python",
   "nbconvert_exporter": "python",
   "pygments_lexer": "ipython3",
   "version": "3.6.8"
  }
 },
 "nbformat": 4,
 "nbformat_minor": 2
}
